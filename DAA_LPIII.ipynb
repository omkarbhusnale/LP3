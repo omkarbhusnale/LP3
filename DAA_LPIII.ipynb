{
  "cells": [
    {
      "cell_type": "code",
      "execution_count": null,
      "metadata": {
        "id": "roxFUVaGsWir"
      },
      "outputs": [],
      "source": [
        "# PR-1  Fibonacci series\n",
        "\n",
        "p = int(input(\"enter a number: \"))\n",
        "\n",
        "#without recursion\n",
        "inits =[0,1]\n",
        "\n",
        "for i in range(p):\n",
        "    inits.append(inits[-1] + inits[-2])\n",
        "print(inits)\n",
        "\n",
        "\n",
        "\n",
        "#with recursion\n",
        "def fib(i):\n",
        "    if i==1 or i==2:\n",
        "        return 1\n",
        "    return fib(i-1) + fib(i-2)\n",
        "\n",
        "print(fib(p))"
      ]
    },
    {
      "cell_type": "code",
      "execution_count": 3,
      "metadata": {
        "colab": {
          "base_uri": "https://localhost:8080/"
        },
        "id": "LslckPxJlhTy",
        "outputId": "541dbad7-ac63-49b4-aa79-99a57f8df1af"
      },
      "outputs": [
        {
          "name": "stdout",
          "output_type": "stream",
          "text": [
            "{'C': '0', 'B': '100', 'D': '101', 'A': '11'}\n"
          ]
        }
      ],
      "source": [
        "# PR -2 Huffman\n",
        "\n",
        "from collections import Counter\n",
        "\n",
        "string = input(\"Enter String: \")\n",
        "# string = \"BCAADDDCCACACAC\"\n",
        "\n",
        "\n",
        "freq = Counter(string)\n",
        "nodes = sorted(freq.items(),key = lambda x:x[1], reverse=True)\n",
        "\n",
        "class NodeTree:\n",
        "    def __init__(self, left=None, right=None):\n",
        "        self.left = left\n",
        "        self.right = right\n",
        "\n",
        "while len(nodes)>1:\n",
        "    (key1,c1) = nodes[-1]\n",
        "    (key2,c2) = nodes[-2]\n",
        "    nodes = nodes[:-2]\n",
        "    node = NodeTree(key1,key2)\n",
        "    nodes.append((node,c1+c2))\n",
        "    nodes=sorted(nodes,key=lambda x:x[1],reverse=True)\n",
        "\n",
        "def haftree(nodes,left=True,binstring=''):\n",
        "    if type(nodes) is str:\n",
        "        return {nodes:binstring}\n",
        "    l,r=nodes.left,nodes.right\n",
        "    b=dict()\n",
        "    b.update(haftree(l,True,binstring+\"0\"))\n",
        "    b.update(haftree(r,False,binstring+\"1\"))\n",
        "    return b\n",
        "\n",
        "p = haftree(nodes[0][0])\n",
        "print(p)\n"
      ]
    },
    {
      "cell_type": "code",
      "execution_count": 1,
      "metadata": {
        "colab": {
          "base_uri": "https://localhost:8080/"
        },
        "id": "0FOA450nlpaZ",
        "outputId": "9eb65f9c-8d9f-47fd-8d62-f99c2e3317ae"
      },
      "outputs": [
        {
          "name": "stdout",
          "output_type": "stream",
          "text": [
            "240.00\n"
          ]
        }
      ],
      "source": [
        "# PR-3 Fraction Knapsack \n",
        "\n",
        "val = [[60,10],[100, 20],[120,30]]\n",
        "W = 50\n",
        "\n",
        "values = sorted(val, key=lambda x:x[0]/x[1], reverse=True)\n",
        "\n",
        "profit=0\n",
        "\n",
        "for item in val:\n",
        "    if W >= item[1]:\n",
        "        profit += item[0]\n",
        "        W -= item[1]\n",
        "    else:\n",
        "        profit += (item[0]/item[1]) * W\n",
        "        break\n",
        "print(\"%.2f\" % profit)\n",
        "\n"
      ]
    },
    {
      "cell_type": "code",
      "execution_count": 11,
      "metadata": {
        "colab": {
          "base_uri": "https://localhost:8080/"
        },
        "id": "t2SqWcVUsyqi",
        "outputId": "ef65776c-b2fa-43dc-a1b2-93729d35d0c4"
      },
      "outputs": [
        {
          "name": "stdout",
          "output_type": "stream",
          "text": [
            "maximum value can be obtained 220\n"
          ]
        }
      ],
      "source": [
        "# PR-4 0-1 knapSack problem\n",
        "\n",
        "def knapSack(W,wt,val,n):\n",
        "    if n==0 or W==0:\n",
        "        return 0\n",
        "    if(wt[n-1]>W):\n",
        "        return knapSack(W,wt,val,n-1)\n",
        "    else:\n",
        "        return max(val[n-1]+knapSack(W-wt[n-1],wt,val,n-1),knapSack(W,wt,val,n-1))\n",
        "    \n",
        "val=[60,100,120]\n",
        "wt=[10,20,30]\n",
        "W=50\n",
        "n=len(val)\n",
        "print(\"maximum value can be obtained\",knapSack(W,wt,val,n)) "
      ]
    },
    {
      "cell_type": "code",
      "execution_count": 12,
      "metadata": {
        "colab": {
          "base_uri": "https://localhost:8080/"
        },
        "id": "NJDUIkHJmjaq",
        "outputId": "49cfd681-b987-4182-dbdc-b6016ece8966"
      },
      "outputs": [
        {
          "name": "stdout",
          "output_type": "stream",
          "text": [
            "_ Q _ _ \n",
            "_ _ _ Q \n",
            "Q _ _ _ \n",
            "_ _ Q _ \n"
          ]
        }
      ],
      "source": [
        "# PR-5 NQueen problem\n",
        "\n",
        "def queen(n):\n",
        "  def backtrack(i):\n",
        "    if i==n:\n",
        "      result.append(list(row))\n",
        "    for j in range(n):\n",
        "      if j not in col and j-i not in dig and  j+i not in ofdig:\n",
        "        col.add(j)\n",
        "        dig.add(j-i)\n",
        "        ofdig.add(j+i)\n",
        "        row.append(\"_\"*j+\"Q\"+\"_\"*(n-j-1))\n",
        "        backtrack(i+1)\n",
        "\n",
        "        col.remove(j)\n",
        "        dig.remove(j-i)\n",
        "        ofdig.remove(j+i)\n",
        "        row.pop()\n",
        "  \n",
        "  result=[]\n",
        "  row=[]\n",
        "  col=set()\n",
        "  dig=set()\n",
        "  ofdig=set()\n",
        "  backtrack(0)\n",
        "  return result\n",
        "\n",
        "\n",
        "pp=int(input(\"Enter a Num: \"))\n",
        "p=queen(pp)\n",
        "for j in p[0]:\n",
        "  for i in j:\n",
        "    print(i,end=\" \")\n",
        "  print()\n",
        "  "
      ]
    }
  ],
  "metadata": {
    "colab": {
      "provenance": []
    },
    "kernelspec": {
      "display_name": "Python 3.9.13 64-bit (microsoft store)",
      "language": "python",
      "name": "python3"
    },
    "language_info": {
      "codemirror_mode": {
        "name": "ipython",
        "version": 3
      },
      "file_extension": ".py",
      "mimetype": "text/x-python",
      "name": "python",
      "nbconvert_exporter": "python",
      "pygments_lexer": "ipython3",
      "version": "3.9.13"
    },
    "vscode": {
      "interpreter": {
        "hash": "cee0df92ca07fef7b350674b817dc9512aef909e52b2bbb492ce44f05ad7e4a4"
      }
    }
  },
  "nbformat": 4,
  "nbformat_minor": 0
}
